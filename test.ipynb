{
 "cells": [
  {
   "cell_type": "code",
   "execution_count": 20,
   "metadata": {},
   "outputs": [],
   "source": [
    "import pandas as pd\n",
    "df = pd.read_parquet('part-00031-f9394a8f-504e-4ee2-bff7-80ca622ce471.c000.snappy.parquet', engine='fastparquet')\n",
    "\n",
    "new_df = df.head(1000)\n",
    "\n",
    "# convert to csv\n",
    "new_df.to_csv('new_df.csv', index=False)\n"
   ]
  },
  {
   "cell_type": "code",
   "execution_count": 14,
   "metadata": {},
   "outputs": [],
   "source": [
    "import geoplot as gplt\n",
    "import geopandas as gpd\n",
    "import geoplot.crs as gcrs\n",
    "import imageio\n",
    "import pandas as pd\n",
    "import pathlib\n",
    "import matplotlib.pyplot as plt\n",
    "import mapclassify as mc\n",
    "import numpy as np"
   ]
  },
  {
   "cell_type": "code",
   "execution_count": 15,
   "metadata": {},
   "outputs": [],
   "source": [
    "%matplotlib inline"
   ]
  },
  {
   "cell_type": "code",
   "execution_count": 34,
   "metadata": {},
   "outputs": [
    {
     "name": "stderr",
     "output_type": "stream",
     "text": [
      "/opt/anaconda3/envs/solar/lib/python3.9/site-packages/geopandas/array.py:1019: RuntimeWarning: All-NaN slice encountered\n",
      "  np.nanmin(b[:, 0]),  # minx\n",
      "/opt/anaconda3/envs/solar/lib/python3.9/site-packages/geopandas/array.py:1020: RuntimeWarning: All-NaN slice encountered\n",
      "  np.nanmin(b[:, 1]),  # miny\n",
      "/opt/anaconda3/envs/solar/lib/python3.9/site-packages/geopandas/array.py:1021: RuntimeWarning: All-NaN slice encountered\n",
      "  np.nanmax(b[:, 2]),  # maxx\n",
      "/opt/anaconda3/envs/solar/lib/python3.9/site-packages/geopandas/array.py:1022: RuntimeWarning: All-NaN slice encountered\n",
      "  np.nanmax(b[:, 3]),  # maxy\n",
      "/opt/anaconda3/envs/solar/lib/python3.9/site-packages/geopandas/array.py:1019: RuntimeWarning: All-NaN slice encountered\n",
      "  np.nanmin(b[:, 0]),  # minx\n",
      "/opt/anaconda3/envs/solar/lib/python3.9/site-packages/geopandas/array.py:1020: RuntimeWarning: All-NaN slice encountered\n",
      "  np.nanmin(b[:, 1]),  # miny\n",
      "/opt/anaconda3/envs/solar/lib/python3.9/site-packages/geopandas/array.py:1021: RuntimeWarning: All-NaN slice encountered\n",
      "  np.nanmax(b[:, 2]),  # maxx\n",
      "/opt/anaconda3/envs/solar/lib/python3.9/site-packages/geopandas/array.py:1022: RuntimeWarning: All-NaN slice encountered\n",
      "  np.nanmax(b[:, 3]),  # maxy\n"
     ]
    },
    {
     "ename": "ImportError",
     "evalue": "Install the Jupyter extra for pydeck with your package manager, e.g. `pip install pydeck[jupyter]`",
     "output_type": "error",
     "traceback": [
      "\u001b[0;31m---------------------------------------------------------------------------\u001b[0m",
      "\u001b[0;31mImportError\u001b[0m                               Traceback (most recent call last)",
      "Cell \u001b[0;32mIn[34], line 26\u001b[0m\n\u001b[1;32m     22\u001b[0m r \u001b[39m=\u001b[39m pdk\u001b[39m.\u001b[39mDeck(layers\u001b[39m=\u001b[39m[layer], initial_view_state\u001b[39m=\u001b[39mview_state)\n\u001b[1;32m     24\u001b[0m r\u001b[39m.\u001b[39mto_html(\u001b[39m'\u001b[39m\u001b[39mtest.html\u001b[39m\u001b[39m'\u001b[39m)\n\u001b[0;32m---> 26\u001b[0m r\u001b[39m.\u001b[39;49mshow()\n",
      "File \u001b[0;32m/opt/anaconda3/envs/solar/lib/python3.9/site-packages/pydeck/bindings/deck.py:147\u001b[0m, in \u001b[0;36mDeck.show\u001b[0;34m(self)\u001b[0m\n\u001b[1;32m    145\u001b[0m     \u001b[39mself\u001b[39m\u001b[39m.\u001b[39mto_html(notebook_display\u001b[39m=\u001b[39m\u001b[39mTrue\u001b[39;00m)\n\u001b[1;32m    146\u001b[0m \u001b[39melse\u001b[39;00m:\n\u001b[0;32m--> 147\u001b[0m     \u001b[39mself\u001b[39;49m\u001b[39m.\u001b[39;49mupdate()\n\u001b[1;32m    148\u001b[0m     \u001b[39mreturn\u001b[39;00m \u001b[39mself\u001b[39m\u001b[39m.\u001b[39mdeck_widget\n",
      "File \u001b[0;32m/opt/anaconda3/envs/solar/lib/python3.9/site-packages/pydeck/bindings/deck.py:159\u001b[0m, in \u001b[0;36mDeck.update\u001b[0;34m(self)\u001b[0m\n\u001b[1;32m    151\u001b[0m \u001b[39m\u001b[39m\u001b[39m\"\"\"Update a deck.gl map to reflect the current configuration\u001b[39;00m\n\u001b[1;32m    152\u001b[0m \n\u001b[1;32m    153\u001b[0m \u001b[39mFor example, if you've modified data passed to Layer and rendered the map using `.show()`,\u001b[39;00m\n\u001b[0;32m   (...)\u001b[0m\n\u001b[1;32m    156\u001b[0m \u001b[39mIntended for use in a Jupyter environment.\u001b[39;00m\n\u001b[1;32m    157\u001b[0m \u001b[39m\"\"\"\u001b[39;00m\n\u001b[1;32m    158\u001b[0m \u001b[39mif\u001b[39;00m \u001b[39mnot\u001b[39;00m has_jupyter_extra():\n\u001b[0;32m--> 159\u001b[0m     \u001b[39mraise\u001b[39;00m \u001b[39mImportError\u001b[39;00m(\n\u001b[1;32m    160\u001b[0m         \u001b[39m\"\u001b[39m\u001b[39mInstall the Jupyter extra for pydeck with your package manager, e.g. `pip install pydeck[jupyter]`\u001b[39m\u001b[39m\"\u001b[39m\n\u001b[1;32m    161\u001b[0m     )\n\u001b[1;32m    162\u001b[0m \u001b[39mself\u001b[39m\u001b[39m.\u001b[39mdeck_widget\u001b[39m.\u001b[39mjson_input \u001b[39m=\u001b[39m \u001b[39mself\u001b[39m\u001b[39m.\u001b[39mto_json()\n\u001b[1;32m    163\u001b[0m has_binary \u001b[39m=\u001b[39m \u001b[39mFalse\u001b[39;00m\n",
      "\u001b[0;31mImportError\u001b[0m: Install the Jupyter extra for pydeck with your package manager, e.g. `pip install pydeck[jupyter]`"
     ]
    }
   ],
   "source": [
    "import geopandas as gpd\n",
    "import pydeck as pdk\n",
    "pdf = gpd.read_file('new_df.csv')\n",
    "\n",
    "layer = pdk.Layer(\n",
    "  \"PolygonLayer\",\n",
    "  data=pdf,\n",
    "  get_polygon=\"the_geom_4326\",\n",
    "  get_fill_color=[0, 0, 255, 80],\n",
    "  get_line_color=[255, 0, 0],\n",
    "  filled=True,\n",
    "  stroked=True,\n",
    "  line_width_min_pixels=1,\n",
    ")\n",
    "\n",
    "view_state = pdk.ViewState(\n",
    "  longitude=-74.1,\n",
    "  latitude=40.7,\n",
    "  zoom=10,\n",
    ")\n",
    "\n",
    "r = pdk.Deck(layers=[layer], initial_view_state=view_state)\n",
    "\n",
    "r.to_html('test.html')\n",
    "\n",
    "r.show()\n",
    "\n",
    "\n"
   ]
  },
  {
   "cell_type": "code",
   "execution_count": 33,
   "metadata": {},
   "outputs": [
    {
     "name": "stdout",
     "output_type": "stream",
     "text": [
      "Requirement already satisfied: pydeck in /opt/anaconda3/envs/solar/lib/python3.9/site-packages (0.8.1b0)\n",
      "Requirement already satisfied: jinja2>=2.10.1 in /opt/anaconda3/envs/solar/lib/python3.9/site-packages (from pydeck) (3.1.2)\n",
      "Requirement already satisfied: numpy>=1.16.4 in /opt/anaconda3/envs/solar/lib/python3.9/site-packages (from pydeck) (1.26.0)\n",
      "Requirement already satisfied: MarkupSafe>=2.0 in /opt/anaconda3/envs/solar/lib/python3.9/site-packages (from jinja2>=2.10.1->pydeck) (2.1.3)\n"
     ]
    }
   ],
   "source": [
    "!pip install pydeck"
   ]
  },
  {
   "cell_type": "code",
   "execution_count": null,
   "metadata": {},
   "outputs": [],
   "source": []
  }
 ],
 "metadata": {
  "kernelspec": {
   "display_name": "solar",
   "language": "python",
   "name": "python3"
  },
  "language_info": {
   "codemirror_mode": {
    "name": "ipython",
    "version": 3
   },
   "file_extension": ".py",
   "mimetype": "text/x-python",
   "name": "python",
   "nbconvert_exporter": "python",
   "pygments_lexer": "ipython3",
   "version": "3.9.0"
  },
  "orig_nbformat": 4
 },
 "nbformat": 4,
 "nbformat_minor": 2
}
